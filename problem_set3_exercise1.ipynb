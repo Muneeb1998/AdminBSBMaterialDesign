{
  "nbformat": 4,
  "nbformat_minor": 0,
  "metadata": {
    "colab": {
      "provenance": [],
      "authorship_tag": "ABX9TyOM0ZLv4X8cHMOZP8uJLqup",
      "include_colab_link": true
    },
    "kernelspec": {
      "name": "python3",
      "display_name": "Python 3"
    },
    "language_info": {
      "name": "python"
    }
  },
  "cells": [
    {
      "cell_type": "markdown",
      "metadata": {
        "id": "view-in-github",
        "colab_type": "text"
      },
      "source": [
        "<a href=\"https://colab.research.google.com/github/Muneeb1998/AdminBSBMaterialDesign/blob/master/problem_set3_exercise1.ipynb\" target=\"_parent\"><img src=\"https://colab.research.google.com/assets/colab-badge.svg\" alt=\"Open In Colab\"/></a>"
      ]
    },
    {
      "cell_type": "code",
      "execution_count": null,
      "metadata": {
        "colab": {
          "base_uri": "https://localhost:8080/"
        },
        "id": "flRKNDmqPDOb",
        "outputId": "63fe810b-5717-4946-8217-996d236209a2"
      },
      "outputs": [
        {
          "output_type": "stream",
          "name": "stdout",
          "text": [
            "Requirement already satisfied: nltk in /usr/local/lib/python3.10/dist-packages (3.8.1)\n",
            "Requirement already satisfied: click in /usr/local/lib/python3.10/dist-packages (from nltk) (8.1.7)\n",
            "Requirement already satisfied: joblib in /usr/local/lib/python3.10/dist-packages (from nltk) (1.4.2)\n",
            "Requirement already satisfied: regex>=2021.8.3 in /usr/local/lib/python3.10/dist-packages (from nltk) (2024.9.11)\n",
            "Requirement already satisfied: tqdm in /usr/local/lib/python3.10/dist-packages (from nltk) (4.66.6)\n"
          ]
        }
      ],
      "source": [
        "!pip install nltk"
      ]
    },
    {
      "cell_type": "code",
      "source": [
        "import nltk\n",
        "# download punkt required for word_tokenize\n",
        "nltk.download('punkt')"
      ],
      "metadata": {
        "colab": {
          "base_uri": "https://localhost:8080/"
        },
        "id": "DCBKOll6UoWw",
        "outputId": "e5edeb6d-2ed4-42ef-b0e3-46ce917c9ea9"
      },
      "execution_count": null,
      "outputs": [
        {
          "output_type": "stream",
          "name": "stderr",
          "text": [
            "[nltk_data] Downloading package punkt to /root/nltk_data...\n",
            "[nltk_data]   Unzipping tokenizers/punkt.zip.\n"
          ]
        },
        {
          "output_type": "execute_result",
          "data": {
            "text/plain": [
              "True"
            ]
          },
          "metadata": {},
          "execution_count": 12
        }
      ]
    },
    {
      "cell_type": "code",
      "source": [
        "from nltk.tokenize import word_tokenize\n",
        "from nltk.probability import FreqDist\n",
        "\n",
        "# create a variable text\n",
        "text = \"The art of storytelling has been a vital part of human culture for centuries. It allows people to share knowledge, preserve history, and build connections with others. Through stories, we can explore different perspectives, understand complex emotions, and experience lives beyond our own. Whether through books, films, or oral traditions, storytelling continues to evolve and captivate audiences around the world.\"\n",
        "\n",
        "# tokenize the text into words\n",
        "tokens = word_tokenize(text)\n",
        "\n",
        "# print the list of tokens\n",
        "print(tokens)\n",
        "\n",
        "# count the number of tokens\n",
        "num_tokens = len(tokens)\n",
        "\n",
        "# print the number of tokens\n",
        "print(\"Number of tokens:\", num_tokens)\n",
        "\n",
        "# create a frequency distribution of the tokens\n",
        "freq_dist = FreqDist(tokens)\n",
        "print(freq_dist)\n",
        "\n",
        "# print the frequency of each token\n",
        "for token, frequency in freq_dist.items():\n",
        "    print(f\"{token}: {frequency}\")"
      ],
      "metadata": {
        "colab": {
          "base_uri": "https://localhost:8080/"
        },
        "id": "c3G7KKJ3SWRb",
        "outputId": "e97e3c85-7362-4c5b-e50f-65f498b8cc76"
      },
      "execution_count": null,
      "outputs": [
        {
          "output_type": "stream",
          "name": "stdout",
          "text": [
            "['The', 'art', 'of', 'storytelling', 'has', 'been', 'a', 'vital', 'part', 'of', 'human', 'culture', 'for', 'centuries', '.', 'It', 'allows', 'people', 'to', 'share', 'knowledge', ',', 'preserve', 'history', ',', 'and', 'build', 'connections', 'with', 'others', '.', 'Through', 'stories', ',', 'we', 'can', 'explore', 'different', 'perspectives', ',', 'understand', 'complex', 'emotions', ',', 'and', 'experience', 'lives', 'beyond', 'our', 'own', '.', 'Whether', 'through', 'books', ',', 'films', ',', 'or', 'oral', 'traditions', ',', 'storytelling', 'continues', 'to', 'evolve', 'and', 'captivate', 'audiences', 'around', 'the', 'world', '.']\n",
            "Number of tokens: 72\n",
            "<FreqDist with 57 samples and 72 outcomes>\n",
            "The: 1\n",
            "art: 1\n",
            "of: 2\n",
            "storytelling: 2\n",
            "has: 1\n",
            "been: 1\n",
            "a: 1\n",
            "vital: 1\n",
            "part: 1\n",
            "human: 1\n",
            "culture: 1\n",
            "for: 1\n",
            "centuries: 1\n",
            ".: 4\n",
            "It: 1\n",
            "allows: 1\n",
            "people: 1\n",
            "to: 2\n",
            "share: 1\n",
            "knowledge: 1\n",
            ",: 8\n",
            "preserve: 1\n",
            "history: 1\n",
            "and: 3\n",
            "build: 1\n",
            "connections: 1\n",
            "with: 1\n",
            "others: 1\n",
            "Through: 1\n",
            "stories: 1\n",
            "we: 1\n",
            "can: 1\n",
            "explore: 1\n",
            "different: 1\n",
            "perspectives: 1\n",
            "understand: 1\n",
            "complex: 1\n",
            "emotions: 1\n",
            "experience: 1\n",
            "lives: 1\n",
            "beyond: 1\n",
            "our: 1\n",
            "own: 1\n",
            "Whether: 1\n",
            "through: 1\n",
            "books: 1\n",
            "films: 1\n",
            "or: 1\n",
            "oral: 1\n",
            "traditions: 1\n",
            "continues: 1\n",
            "evolve: 1\n",
            "captivate: 1\n",
            "audiences: 1\n",
            "around: 1\n",
            "the: 1\n",
            "world: 1\n"
          ]
        }
      ]
    }
  ]
}